{
  "nbformat": 4,
  "nbformat_minor": 0,
  "metadata": {
    "colab": {
      "provenance": [],
      "authorship_tag": "ABX9TyMdd/ex3/bcj+04CoRRnWrj",
      "include_colab_link": true
    },
    "kernelspec": {
      "name": "python3",
      "display_name": "Python 3"
    },
    "language_info": {
      "name": "python"
    }
  },
  "cells": [
    {
      "cell_type": "markdown",
      "metadata": {
        "id": "view-in-github",
        "colab_type": "text"
      },
      "source": [
        "<a href=\"https://colab.research.google.com/github/paola-ortega-0301/Implementa_Aplicaciones_Web/blob/main/CursoPython.ipynb\" target=\"_parent\"><img src=\"https://colab.research.google.com/assets/colab-badge.svg\" alt=\"Open In Colab\"/></a>"
      ]
    },
    {
      "cell_type": "markdown",
      "source": [
        "Nombre: Paola Ortega No Control: 23308051280301\n",
        "Gpo 5J\n",
        "Lenguaje Python\n",
        "\n",
        "Variables"
      ],
      "metadata": {
        "id": "ALgu6gUt9-f5"
      }
    },
    {
      "cell_type": "code",
      "source": [
        "Edad=17\n",
        "Nombre=\"Paola Ortega\"\n",
        "Estatura=1.65\n",
        "print(Edad)\n",
        "print(Nombre)\n",
        "print(Estatura)"
      ],
      "metadata": {
        "colab": {
          "base_uri": "https://localhost:8080/"
        },
        "id": "G8NJIRtI-eyY",
        "outputId": "0bb4dd78-8726-41cc-cb45-158496afea5a"
      },
      "execution_count": 2,
      "outputs": [
        {
          "output_type": "stream",
          "name": "stdout",
          "text": [
            "17\n",
            "Paola Ortega\n",
            "1.65\n"
          ]
        }
      ]
    },
    {
      "cell_type": "markdown",
      "source": [
        "Sentencia If else"
      ],
      "metadata": {
        "id": "qTlHvqyI_E6H"
      }
    },
    {
      "cell_type": "code",
      "source": [
        "edad=20\n",
        "if edad>=18:\n",
        "  print(\"eres mayor de edad\")\n",
        "else:\n",
        "  print(\"Eres menor de edad\")\n",
        "print(\"Termina el programa\")"
      ],
      "metadata": {
        "colab": {
          "base_uri": "https://localhost:8080/"
        },
        "id": "sBpGhiPu_0Sg",
        "outputId": "7a351476-d381-48db-e56a-6cc216e9b4fe"
      },
      "execution_count": 9,
      "outputs": [
        {
          "output_type": "stream",
          "name": "stdout",
          "text": [
            "eres mayor de edad\n",
            "Termina el programa\n"
          ]
        }
      ]
    },
    {
      "cell_type": "code",
      "source": [
        "edad=15\n",
        "if edad>=18:\n",
        "  print(\"eres mayor de edad\")\n",
        "else:\n",
        "  print(\"Eres menor de edad\")\n",
        "print(\"Termina el programa\")"
      ],
      "metadata": {
        "colab": {
          "base_uri": "https://localhost:8080/"
        },
        "id": "m6Z4gEENAkx5",
        "outputId": "97e1538f-fb41-4866-9397-7d27b2372b2b"
      },
      "execution_count": 8,
      "outputs": [
        {
          "output_type": "stream",
          "name": "stdout",
          "text": [
            "Eres menor de edad\n",
            "Termina el programa\n"
          ]
        }
      ]
    },
    {
      "cell_type": "markdown",
      "source": [
        "Boleanos en if else"
      ],
      "metadata": {
        "id": "98hR9bA2BMHP"
      }
    },
    {
      "cell_type": "code",
      "source": [
        "pago=True\n",
        "if pago==True:\n",
        "  print(\"Puedes pagar\")\n",
        "else:\n",
        "  print(\"No puedes pagar\")"
      ],
      "metadata": {
        "colab": {
          "base_uri": "https://localhost:8080/"
        },
        "id": "5Unq8iv9BQZv",
        "outputId": "4bef695e-e87c-4bc7-da3f-8b060d3df4e5"
      },
      "execution_count": 10,
      "outputs": [
        {
          "output_type": "stream",
          "name": "stdout",
          "text": [
            "Puedes pagar\n"
          ]
        }
      ]
    },
    {
      "cell_type": "code",
      "source": [
        "pago=False\n",
        "if pago==True:\n",
        "  print(\"Puedes pagar\")\n",
        "else:\n",
        "  print(\"No puedes pagar\")"
      ],
      "metadata": {
        "colab": {
          "base_uri": "https://localhost:8080/"
        },
        "id": "1dfETfLeBmHn",
        "outputId": "2f264569-90e1-4a44-a205-418b3dc329ed"
      },
      "execution_count": 11,
      "outputs": [
        {
          "output_type": "stream",
          "name": "stdout",
          "text": [
            "No puedes pagar\n"
          ]
        }
      ]
    },
    {
      "cell_type": "markdown",
      "source": [
        "Ciclo For"
      ],
      "metadata": {
        "id": "XLQQXIgDCC28"
      }
    },
    {
      "cell_type": "code",
      "source": [
        "for i in range(1,4):\n",
        "  print(i)"
      ],
      "metadata": {
        "colab": {
          "base_uri": "https://localhost:8080/"
        },
        "id": "exUiZnjhCHlW",
        "outputId": "8f7a9ca4-5a80-439f-f6d4-82a9293d26f1"
      },
      "execution_count": 22,
      "outputs": [
        {
          "output_type": "stream",
          "name": "stdout",
          "text": [
            "1\n",
            "2\n",
            "3\n"
          ]
        }
      ]
    },
    {
      "cell_type": "code",
      "source": [
        "frutas=[\"Manzana\",\"Pera\",\"Naranja\"]\n",
        "for fruta in frutas:\n",
        "  print(fruta)"
      ],
      "metadata": {
        "colab": {
          "base_uri": "https://localhost:8080/"
        },
        "id": "wXhgWRVYCzoX",
        "outputId": "233b7074-c246-4d8b-acd9-166b4ab39350"
      },
      "execution_count": 23,
      "outputs": [
        {
          "output_type": "stream",
          "name": "stdout",
          "text": [
            "Manzana\n",
            "Pera\n",
            "Naranja\n"
          ]
        }
      ]
    },
    {
      "cell_type": "code",
      "source": [
        "edades=[18,17,20]\n",
        "for edad in edades:\n",
        "  print(edad)"
      ],
      "metadata": {
        "colab": {
          "base_uri": "https://localhost:8080/"
        },
        "id": "xV38LBz6DTq3",
        "outputId": "2a62dacc-68c1-4c6d-ea1b-ebd8dba7b5ca"
      },
      "execution_count": 24,
      "outputs": [
        {
          "output_type": "stream",
          "name": "stdout",
          "text": [
            "18\n",
            "17\n",
            "20\n"
          ]
        }
      ]
    }
  ]
}